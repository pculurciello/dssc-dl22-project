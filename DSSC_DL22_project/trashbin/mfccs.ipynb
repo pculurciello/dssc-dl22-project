{
 "cells": [
  {
   "cell_type": "code",
   "execution_count": 11,
   "id": "0387fcc7",
   "metadata": {},
   "outputs": [],
   "source": [
    "import os\n",
    "import pandas as pd\n",
    "import numpy as np\n",
    "import torch\n",
    "import librosa\n",
    "from torch.utils.data import Dataset\n",
    "\n",
    "audio_dir = os.path.join(os.getcwd(), 'barks_10s')\n",
    "audio_path = os.path.join(audio_dir)\n",
    "\n",
    "for file in os.listdir(audio_dir):\n",
    "    file_path = os.path.join(audio_dir, file)\n",
    "    audio, sample_rate = librosa.load(file_path, res_type='kaiser_fast') \n",
    "    mfccs = librosa.feature.mfcc(y=audio, sr=sample_rate, n_mfcc=40)\n",
    "    if mfccs.shape[1] != 431:\n",
    "        print(mfccs.shape)\n",
    "        print(file)"
   ]
  },
  {
   "cell_type": "code",
   "execution_count": null,
   "id": "4e0e0a7a",
   "metadata": {},
   "outputs": [],
   "source": []
  }
 ],
 "metadata": {
  "kernelspec": {
   "display_name": "NYUDL21",
   "language": "python",
   "name": "nyudl21"
  },
  "language_info": {
   "codemirror_mode": {
    "name": "ipython",
    "version": 3
   },
   "file_extension": ".py",
   "mimetype": "text/x-python",
   "name": "python",
   "nbconvert_exporter": "python",
   "pygments_lexer": "ipython3",
   "version": "3.8.10"
  }
 },
 "nbformat": 4,
 "nbformat_minor": 5
}
