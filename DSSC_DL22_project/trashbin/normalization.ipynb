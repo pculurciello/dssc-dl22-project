{
 "cells": [
  {
   "cell_type": "markdown",
   "id": "2a9417d9",
   "metadata": {},
   "source": [
    "https://inside-machinelearning.com/en/why-and-how-to-normalize-data-object-detection-on-image-in-pytorch-part-1/"
   ]
  },
  {
   "cell_type": "markdown",
   "id": "ae890b51",
   "metadata": {},
   "source": [
    "# Loading data\n",
    "\n",
    "First of all we will load the data we need.\n",
    "\n",
    "We use for that the datasets module.\n",
    "\n",
    "It’s a module integrated to PyTorch that allows to quickly load datasets. Ideal to practice coding !\n",
    "\n",
    "The dataset that interests us is called CIFAR-10. It is composed of 60 000 images in RGB color and size 32×32.\n",
    "They are divided into 10 classes (plane, automobile, bird, cat, deer, dog, frog, horse, boat, truck), with 6 000 images per class"
   ]
  },
  {
   "cell_type": "code",
   "execution_count": 2,
   "id": "e715a56e",
   "metadata": {},
   "outputs": [
    {
     "name": "stdout",
     "output_type": "stream",
     "text": [
      "Downloading https://www.cs.toronto.edu/~kriz/cifar-10-python.tar.gz to /app/One-Class-Audio-Classifier/cifar10/cifar-10-python.tar.gz\n"
     ]
    },
    {
     "name": "stderr",
     "output_type": "stream",
     "text": [
      "100.0%\n"
     ]
    },
    {
     "name": "stdout",
     "output_type": "stream",
     "text": [
      "Extracting /app/One-Class-Audio-Classifier/cifar10/cifar-10-python.tar.gz to /app/One-Class-Audio-Classifier/cifar10\n"
     ]
    }
   ],
   "source": [
    "from torchvision import datasets\n",
    "from torchvision import transforms\n",
    "import os\n",
    "\n",
    "data_path = os.path.join(os.getcwd(), 'cifar10')\n",
    "\n",
    "cifar10 = datasets.CIFAR10(\n",
    "    data_path, train=True, download=True,\n",
    "    transform=transforms.ToTensor()\n",
    "    )"
   ]
  },
  {
   "cell_type": "markdown",
   "id": "12c9ee61",
   "metadata": {},
   "source": [
    "# Verifying the data\n",
    "\n",
    "Let’s be a bit more precise, we have a variable cifar10 which is a dataset containing tuples.\n",
    "\n",
    "These tuples are composed of :\n",
    "\n",
    "a tensor (which represents the image)\n",
    "an int which represents the label of the image"
   ]
  },
  {
   "cell_type": "code",
   "execution_count": 7,
   "id": "55395df0",
   "metadata": {},
   "outputs": [
    {
     "data": {
      "text/plain": [
       "(torch.Tensor, int)"
      ]
     },
     "execution_count": 7,
     "metadata": {},
     "output_type": "execute_result"
    }
   ],
   "source": [
    "img_t, index_label = cifar10[5]\n",
    "type(img_t), type(index_label)"
   ]
  },
  {
   "cell_type": "markdown",
   "id": "19440171",
   "metadata": {},
   "source": [
    "We have recovered one of the images of the dataset, let’s display it !\n",
    "\n",
    "We recall that an image tensor is in the format Color X Height X Width. To display the image, it is necessary to change its format to Height X Width X Color.\n",
    "\n",
    "To do so, we use the permute() function."
   ]
  },
  {
   "cell_type": "code",
   "execution_count": 5,
   "id": "6532b08d",
   "metadata": {},
   "outputs": [
    {
     "data": {
      "image/png": "[encoded data removed]",
      "text/plain": [
       "<Figure size 432x288 with 1 Axes>"
      ]
     },
     "metadata": {
      "needs_background": "light"
     },
     "output_type": "display_data"
    }
   ],
   "source": [
    "import matplotlib.pyplot as plt\n",
    "\n",
    "plt.imshow(img_t.permute(1, 2, 0))\n",
    "plt.show()"
   ]
  },
  {
   "cell_type": "markdown",
   "id": "7e08afdb",
   "metadata": {},
   "source": [
    "We also may display the label associated with the image:\n",
    "\n",
    "The index_label variable is equal to 1. In fact we have retrieved the index that will allow us to know the name of the label."
   ]
  },
  {
   "cell_type": "code",
   "execution_count": 6,
   "id": "53371a38",
   "metadata": {},
   "outputs": [
    {
     "data": {
      "text/plain": [
       "1"
      ]
     },
     "execution_count": 6,
     "metadata": {},
     "output_type": "execute_result"
    }
   ],
   "source": [
    "index_label"
   ]
  },
  {
   "cell_type": "markdown",
   "id": "05e6f947",
   "metadata": {},
   "source": [
    "# Normalization\n",
    "\n",
    "Normalizing data is a step often forgotten by Data Scientists, even though it is essential to build a good Machine Learning algorithm.\n",
    "\n",
    "Normalization is the fact of modifying the data of each channel/tensor so that the mean is zero and the standard deviation is one.\n",
    "\n",
    "We show you an example with the normalization of a list below :\n",
    "\n",
    "We show you an example below with the normalization of a list below…\n",
    "\n",
    "…first, we calculate the mean and the standard deviation :"
   ]
  },
  {
   "cell_type": "code",
   "execution_count": 8,
   "id": "ba1eeee0",
   "metadata": {},
   "outputs": [
    {
     "name": "stdout",
     "output_type": "stream",
     "text": [
      "[1.8583670796659157, -0.8113997108400477, 0.6543546055161675, -0.5496578686335807, -0.07852255266194011, -1.0731415530465147]\n"
     ]
    }
   ],
   "source": [
    "import numpy as np\n",
    "\n",
    "l = [60, 9, 37, 14, 23, 4]\n",
    "np.mean(l), np.std(l)\n",
    "\n",
    "l_norm = [(element - np.mean(l)) / np.std(l) for element in l]\n",
    "print(l_norm)"
   ]
  },
  {
   "cell_type": "markdown",
   "id": "a8402f10",
   "metadata": {},
   "source": [
    "We can check that the mean is 0 and the standard deviation is 1:"
   ]
  },
  {
   "cell_type": "code",
   "execution_count": 9,
   "id": "67f41c03",
   "metadata": {},
   "outputs": [
    {
     "data": {
      "text/plain": [
       "(0.0, 1.0)"
      ]
     },
     "execution_count": 9,
     "metadata": {},
     "output_type": "execute_result"
    }
   ],
   "source": [
    "np.mean(l_norm), np.std(l_norm)"
   ]
  },
  {
   "cell_type": "markdown",
   "id": "c1d9fc9f",
   "metadata": {},
   "source": [
    "# The PyTorch advantage\n",
    "\n",
    "## Normalize Data Manually\n",
    "\n",
    "With PyTorch we can normalize our data set quite quickly.\n",
    "\n",
    "We are going to create the tensor channel we talked about in the previous part.\n",
    "\n",
    "To do this, we use the stack() function by indicating each of the tensors in our cifar10 variable :"
   ]
  },
  {
   "cell_type": "code",
   "execution_count": 16,
   "id": "dc938ea2",
   "metadata": {},
   "outputs": [
    {
     "data": {
      "text/plain": [
       "torch.Size([3, 32, 32, 50000])"
      ]
     },
     "execution_count": 16,
     "metadata": {},
     "output_type": "execute_result"
    }
   ],
   "source": [
    "import torch\n",
    "\n",
    "imgs = torch.stack([img_t for img_t, _ in cifar10], dim=3)\n",
    "imgs.shape"
   ]
  },
  {
   "cell_type": "markdown",
   "id": "fd7d3abf",
   "metadata": {},
   "source": [
    "We obtain a channel that contains 50 000 images in 3x32x32 format.\n",
    "\n",
    "In fact this channel is a tensor. It is a tensor which contains other tensors 😉\n",
    "\n",
    "Thanks to this channel, we can calculate the average and standard deviation of all the tensors :"
   ]
  },
  {
   "cell_type": "code",
   "execution_count": 28,
   "id": "584ebd0d",
   "metadata": {},
   "outputs": [
    {
     "name": "stdout",
     "output_type": "stream",
     "text": [
      "mean = tensor([0.4914, 0.4822, 0.4465])\n",
      "std = tensor([0.2470, 0.2435, 0.2616])\n"
     ]
    }
   ],
   "source": [
    "print('mean = ' +  str(imgs.view(3, -1).mean(dim=1)))\n",
    "print('std = ' + str(imgs.view(3, -1).std(dim=1)))"
   ]
  },
  {
   "cell_type": "markdown",
   "id": "c719ce68",
   "metadata": {},
   "source": [
    "No need to rewrite the normalization formula, the PyTorch library takes care of everything!\n",
    "\n",
    "We simply use the Normalize() function of the transforms module by indicating the mean and the standard deviation :\n",
    "\n"
   ]
  },
  {
   "cell_type": "code",
   "execution_count": 29,
   "id": "8dc0ea18",
   "metadata": {},
   "outputs": [],
   "source": [
    "norm = transforms.Normalize((0.4915, 0.4823, 0.4468), (0.2470, 0.2435, 0.2616))"
   ]
  },
  {
   "cell_type": "markdown",
   "id": "28964cbd",
   "metadata": {},
   "source": [
    "We can then normalize all images of the channel at the same time:"
   ]
  },
  {
   "cell_type": "code",
   "execution_count": 30,
   "id": "58b9caf1",
   "metadata": {},
   "outputs": [],
   "source": [
    "imgs_norm = torch.stack([norm(img_t) for img_t, _ in cifar10], dim=3)"
   ]
  },
  {
   "cell_type": "markdown",
   "id": "78d6eb5e",
   "metadata": {},
   "source": [
    "Finally we can verify that our channel is well normalized with a mean of 0 and a standard deviation of 1 :"
   ]
  },
  {
   "cell_type": "code",
   "execution_count": 31,
   "id": "3f4c72ff",
   "metadata": {},
   "outputs": [
    {
     "name": "stdout",
     "output_type": "stream",
     "text": [
      "tensor(-0.0007) tensor(1.0000)\n"
     ]
    }
   ],
   "source": [
    "print(imgs_norm.mean(), imgs_norm.std())"
   ]
  },
  {
   "cell_type": "markdown",
   "id": "9b82a944",
   "metadata": {},
   "source": [
    "## Barks audio normalization"
   ]
  },
  {
   "cell_type": "code",
   "execution_count": 33,
   "id": "5c393971",
   "metadata": {},
   "outputs": [],
   "source": [
    "import os\n",
    "import librosa\n",
    "\n",
    "audio_dir = os.path.join(os.getcwd(), 'barks_10s')\n",
    "audio_path = os.path.join(audio_dir, 'bark_1.wav')\n",
    "\n",
    "audio, sample_rate = librosa.load(audio_path, res_type='kaiser_fast') \n",
    "mfccs = librosa.feature.mfcc(y=audio, sr=sample_rate, n_mfcc=40)\n",
    "mfcc_mean = np.mean(mfccs,axis=1)   "
   ]
  },
  {
   "cell_type": "code",
   "execution_count": 37,
   "id": "30938e96",
   "metadata": {},
   "outputs": [],
   "source": [
    "from utils.CustomAudioDataset import CustomAudioDataset\n",
    "from utils.train_test_dataset import train_test_dataset\n",
    "\n",
    "annotation_file = os.path.join(os.getcwd(), 'barks_10s.csv')\n",
    "\n",
    "barks_dataset = CustomAudioDataset(annotations_file = annotation_file, audio_dir = audio_dir)    \n",
    "barks = torch.stack([barks_t for barks_t, _ in barks_dataset])"
   ]
  },
  {
   "cell_type": "code",
   "execution_count": 38,
   "id": "1f02915a",
   "metadata": {},
   "outputs": [
    {
     "name": "stdout",
     "output_type": "stream",
     "text": [
      "torch.Size([472, 40, 431])\n"
     ]
    }
   ],
   "source": [
    "print(barks.shape)"
   ]
  },
  {
   "cell_type": "code",
   "execution_count": 50,
   "id": "1b86dc66",
   "metadata": {},
   "outputs": [],
   "source": [
    "barks_mean = np.mean(barks.cpu().detach().numpy(),axis=(0,2))\n",
    "barks_std = np.std(barks.cpu().detach().numpy(),axis=(0,2))"
   ]
  },
  {
   "cell_type": "code",
   "execution_count": 70,
   "id": "f580f816",
   "metadata": {},
   "outputs": [
    {
     "name": "stdout",
     "output_type": "stream",
     "text": [
      "torch.Size([472, 40, 431])\n"
     ]
    }
   ],
   "source": [
    "barks_norm = []\n",
    "\n",
    "for mfcc in range(barks.shape[1]):\n",
    "    #print(barks[:, mfcc, :].shape)\n",
    "    #print(barks_mean[mfcc])\n",
    "    #print(barks_std[mfcc])\n",
    "    barks_norm.append((barks[:, mfcc, :] - barks_mean[mfcc]) / barks_std[mfcc])\n",
    "\n",
    "barks_norm = torch.stack(barks_norm, dim=1)\n",
    "print(barks_norm.shape)"
   ]
  },
  {
   "cell_type": "code",
   "execution_count": 72,
   "id": "cba6a614",
   "metadata": {
    "collapsed": true
   },
   "outputs": [
    {
     "name": "stdout",
     "output_type": "stream",
     "text": [
      "3.4023097e-07\n",
      "0.9999997\n",
      "8.640787e-07\n",
      "0.9999998\n",
      "-3.1502868e-08\n",
      "0.9999999\n",
      "-2.9432678e-07\n",
      "1.0000001\n",
      "-1.5181382e-07\n",
      "0.9999999\n",
      "2.3702158e-08\n",
      "1.0000001\n",
      "-5.4004916e-09\n",
      "0.99999964\n",
      "-6.2795715e-07\n",
      "1.0\n",
      "-4.7164295e-07\n",
      "0.9999999\n",
      "3.1682885e-07\n",
      "1.0000001\n",
      "-2.0851898e-08\n",
      "0.9999999\n",
      "-7.2306584e-08\n",
      "1.0\n",
      "6.206815e-08\n",
      "0.9999998\n",
      "1.3351216e-07\n",
      "1.0\n",
      "-4.800437e-09\n",
      "1.0\n",
      "-1.0095919e-07\n",
      "0.9999998\n",
      "8.378262e-08\n",
      "1.0000002\n",
      "-5.5205025e-08\n",
      "1.0000001\n",
      "-2.3462135e-07\n",
      "0.9999998\n",
      "-4.7629335e-08\n",
      "0.9999999\n",
      "1.800164e-08\n",
      "1.0000001\n",
      "1.4101284e-08\n",
      "1.0\n",
      "1.0800983e-08\n",
      "1.0000001\n",
      "-3.1952908e-08\n",
      "1.0000002\n",
      "2.1001911e-08\n",
      "1.0\n",
      "-5.4004916e-09\n",
      "1.0000001\n",
      "-2.8202567e-08\n",
      "0.9999998\n",
      "-5.82053e-08\n",
      "0.99999994\n",
      "4.492909e-08\n",
      "1.0\n",
      "-3.7503414e-10\n",
      "1.0000001\n",
      "4.9504507e-08\n",
      "0.9999999\n",
      "3.000273e-10\n",
      "1.0000002\n",
      "-1.1566053e-07\n",
      "0.9999998\n",
      "-3.07528e-08\n",
      "1.0000001\n",
      "-1.3771253e-07\n",
      "0.9999999\n",
      "-7.4706804e-08\n",
      "0.99999976\n",
      "1.1566053e-07\n",
      "0.99999976\n",
      "7.110647e-08\n",
      "1.0\n",
      "-2.4842262e-07\n",
      "0.99999964\n",
      "2.4902267e-08\n",
      "0.9999998\n"
     ]
    }
   ],
   "source": [
    "for mfcc in range(barks_norm.shape[1]):\n",
    "    print(np.mean(barks_norm[:, mfcc, :].cpu().detach().numpy()))\n",
    "    print(np.std(barks_norm[:, mfcc, :].cpu().detach().numpy()))"
   ]
  },
  {
   "cell_type": "code",
   "execution_count": 73,
   "id": "88a648a0",
   "metadata": {
    "collapsed": true
   },
   "outputs": [
    {
     "name": "stdout",
     "output_type": "stream",
     "text": [
      "torch.Size([40, 431])\n",
      "torch.Size([40, 431])\n",
      "torch.Size([40, 431])\n",
      "torch.Size([40, 431])\n",
      "torch.Size([40, 431])\n",
      "torch.Size([40, 431])\n",
      "torch.Size([40, 431])\n",
      "torch.Size([40, 431])\n",
      "torch.Size([40, 431])\n",
      "torch.Size([40, 431])\n",
      "torch.Size([40, 431])\n",
      "torch.Size([40, 431])\n",
      "torch.Size([40, 431])\n",
      "torch.Size([40, 431])\n",
      "torch.Size([40, 431])\n",
      "torch.Size([40, 431])\n",
      "torch.Size([40, 431])\n",
      "torch.Size([40, 431])\n",
      "torch.Size([40, 431])\n",
      "torch.Size([40, 431])\n",
      "torch.Size([40, 431])\n",
      "torch.Size([40, 431])\n",
      "torch.Size([40, 431])\n",
      "torch.Size([40, 431])\n",
      "torch.Size([40, 431])\n",
      "torch.Size([40, 431])\n",
      "torch.Size([40, 431])\n",
      "torch.Size([40, 431])\n",
      "torch.Size([40, 431])\n",
      "torch.Size([40, 431])\n",
      "torch.Size([40, 431])\n",
      "torch.Size([40, 431])\n",
      "torch.Size([40, 431])\n",
      "torch.Size([40, 431])\n",
      "torch.Size([40, 431])\n",
      "torch.Size([40, 431])\n",
      "torch.Size([40, 431])\n",
      "torch.Size([40, 431])\n",
      "torch.Size([40, 431])\n",
      "torch.Size([40, 431])\n",
      "torch.Size([40, 431])\n",
      "torch.Size([40, 431])\n",
      "torch.Size([40, 431])\n",
      "torch.Size([40, 431])\n",
      "torch.Size([40, 431])\n",
      "torch.Size([40, 431])\n",
      "torch.Size([40, 431])\n",
      "torch.Size([40, 431])\n",
      "torch.Size([40, 431])\n",
      "torch.Size([40, 431])\n",
      "torch.Size([40, 431])\n",
      "torch.Size([40, 431])\n",
      "torch.Size([40, 431])\n",
      "torch.Size([40, 431])\n",
      "torch.Size([40, 431])\n",
      "torch.Size([40, 431])\n",
      "torch.Size([40, 431])\n",
      "torch.Size([40, 431])\n",
      "torch.Size([40, 431])\n",
      "torch.Size([40, 431])\n",
      "torch.Size([40, 431])\n",
      "torch.Size([40, 431])\n",
      "torch.Size([40, 431])\n",
      "torch.Size([40, 431])\n",
      "torch.Size([40, 431])\n",
      "torch.Size([40, 431])\n",
      "torch.Size([40, 431])\n",
      "torch.Size([40, 431])\n",
      "torch.Size([40, 431])\n",
      "torch.Size([40, 431])\n",
      "torch.Size([40, 431])\n",
      "torch.Size([40, 431])\n",
      "torch.Size([40, 431])\n",
      "torch.Size([40, 431])\n",
      "torch.Size([40, 431])\n",
      "torch.Size([40, 431])\n",
      "torch.Size([40, 431])\n",
      "torch.Size([40, 431])\n",
      "torch.Size([40, 431])\n",
      "torch.Size([40, 431])\n",
      "torch.Size([40, 431])\n",
      "torch.Size([40, 431])\n",
      "torch.Size([40, 431])\n",
      "torch.Size([40, 431])\n",
      "torch.Size([40, 431])\n",
      "torch.Size([40, 431])\n",
      "torch.Size([40, 431])\n",
      "torch.Size([40, 431])\n",
      "torch.Size([40, 431])\n",
      "torch.Size([40, 431])\n",
      "torch.Size([40, 431])\n",
      "torch.Size([40, 431])\n",
      "torch.Size([40, 431])\n",
      "torch.Size([40, 431])\n",
      "torch.Size([40, 431])\n",
      "torch.Size([40, 431])\n",
      "torch.Size([40, 431])\n",
      "torch.Size([40, 431])\n",
      "torch.Size([40, 431])\n",
      "torch.Size([40, 431])\n",
      "torch.Size([40, 431])\n",
      "torch.Size([40, 431])\n",
      "torch.Size([40, 431])\n",
      "torch.Size([40, 431])\n",
      "torch.Size([40, 431])\n",
      "torch.Size([40, 431])\n",
      "torch.Size([40, 431])\n",
      "torch.Size([40, 431])\n",
      "torch.Size([40, 431])\n",
      "torch.Size([40, 431])\n",
      "torch.Size([40, 431])\n",
      "torch.Size([40, 431])\n",
      "torch.Size([40, 431])\n",
      "torch.Size([40, 431])\n",
      "torch.Size([40, 431])\n",
      "torch.Size([40, 431])\n",
      "torch.Size([40, 431])\n",
      "torch.Size([40, 431])\n",
      "torch.Size([40, 431])\n",
      "torch.Size([40, 431])\n",
      "torch.Size([40, 431])\n",
      "torch.Size([40, 431])\n",
      "torch.Size([40, 431])\n",
      "torch.Size([40, 431])\n",
      "torch.Size([40, 431])\n",
      "torch.Size([40, 431])\n",
      "torch.Size([40, 431])\n",
      "torch.Size([40, 431])\n",
      "torch.Size([40, 431])\n",
      "torch.Size([40, 431])\n",
      "torch.Size([40, 431])\n",
      "torch.Size([40, 431])\n",
      "torch.Size([40, 431])\n",
      "torch.Size([40, 431])\n",
      "torch.Size([40, 431])\n",
      "torch.Size([40, 431])\n",
      "torch.Size([40, 431])\n",
      "torch.Size([40, 431])\n",
      "torch.Size([40, 431])\n",
      "torch.Size([40, 431])\n",
      "torch.Size([40, 431])\n",
      "torch.Size([40, 431])\n",
      "torch.Size([40, 431])\n",
      "torch.Size([40, 431])\n",
      "torch.Size([40, 431])\n",
      "torch.Size([40, 431])\n",
      "torch.Size([40, 431])\n",
      "torch.Size([40, 431])\n",
      "torch.Size([40, 431])\n",
      "torch.Size([40, 431])\n",
      "torch.Size([40, 431])\n",
      "torch.Size([40, 431])\n",
      "torch.Size([40, 431])\n",
      "torch.Size([40, 431])\n",
      "torch.Size([40, 431])\n",
      "torch.Size([40, 431])\n",
      "torch.Size([40, 431])\n",
      "torch.Size([40, 431])\n",
      "torch.Size([40, 431])\n",
      "torch.Size([40, 431])\n",
      "torch.Size([40, 431])\n",
      "torch.Size([40, 431])\n",
      "torch.Size([40, 431])\n",
      "torch.Size([40, 431])\n",
      "torch.Size([40, 431])\n",
      "torch.Size([40, 431])\n",
      "torch.Size([40, 431])\n",
      "torch.Size([40, 431])\n",
      "torch.Size([40, 431])\n",
      "torch.Size([40, 431])\n",
      "torch.Size([40, 431])\n",
      "torch.Size([40, 431])\n",
      "torch.Size([40, 431])\n",
      "torch.Size([40, 431])\n",
      "torch.Size([40, 431])\n",
      "torch.Size([40, 431])\n",
      "torch.Size([40, 431])\n",
      "torch.Size([40, 431])\n",
      "torch.Size([40, 431])\n",
      "torch.Size([40, 431])\n",
      "torch.Size([40, 431])\n",
      "torch.Size([40, 431])\n",
      "torch.Size([40, 431])\n",
      "torch.Size([40, 431])\n",
      "torch.Size([40, 431])\n",
      "torch.Size([40, 431])\n",
      "torch.Size([40, 431])\n",
      "torch.Size([40, 431])\n",
      "torch.Size([40, 431])\n",
      "torch.Size([40, 431])\n",
      "torch.Size([40, 431])\n",
      "torch.Size([40, 431])\n",
      "torch.Size([40, 431])\n",
      "torch.Size([40, 431])\n",
      "torch.Size([40, 431])\n",
      "torch.Size([40, 431])\n",
      "torch.Size([40, 431])\n",
      "torch.Size([40, 431])\n",
      "torch.Size([40, 431])\n",
      "torch.Size([40, 431])\n",
      "torch.Size([40, 431])\n",
      "torch.Size([40, 431])\n",
      "torch.Size([40, 431])\n",
      "torch.Size([40, 431])\n",
      "torch.Size([40, 431])\n",
      "torch.Size([40, 431])\n",
      "torch.Size([40, 431])\n",
      "torch.Size([40, 431])\n",
      "torch.Size([40, 431])\n",
      "torch.Size([40, 431])\n",
      "torch.Size([40, 431])\n",
      "torch.Size([40, 431])\n",
      "torch.Size([40, 431])\n",
      "torch.Size([40, 431])\n",
      "torch.Size([40, 431])\n",
      "torch.Size([40, 431])\n",
      "torch.Size([40, 431])\n",
      "torch.Size([40, 431])\n",
      "torch.Size([40, 431])\n",
      "torch.Size([40, 431])\n",
      "torch.Size([40, 431])\n",
      "torch.Size([40, 431])\n",
      "torch.Size([40, 431])\n",
      "torch.Size([40, 431])\n",
      "torch.Size([40, 431])\n",
      "torch.Size([40, 431])\n",
      "torch.Size([40, 431])\n",
      "torch.Size([40, 431])\n",
      "torch.Size([40, 431])\n",
      "torch.Size([40, 431])\n",
      "torch.Size([40, 431])\n",
      "torch.Size([40, 431])\n",
      "torch.Size([40, 431])\n",
      "torch.Size([40, 431])\n",
      "torch.Size([40, 431])\n",
      "torch.Size([40, 431])\n",
      "torch.Size([40, 431])\n",
      "torch.Size([40, 431])\n",
      "torch.Size([40, 431])\n",
      "torch.Size([40, 431])\n",
      "torch.Size([40, 431])\n",
      "torch.Size([40, 431])\n",
      "torch.Size([40, 431])\n",
      "torch.Size([40, 431])\n",
      "torch.Size([40, 431])\n",
      "torch.Size([40, 431])\n",
      "torch.Size([40, 431])\n",
      "torch.Size([40, 431])\n",
      "torch.Size([40, 431])\n",
      "torch.Size([40, 431])\n",
      "torch.Size([40, 431])\n",
      "torch.Size([40, 431])\n",
      "torch.Size([40, 431])\n",
      "torch.Size([40, 431])\n",
      "torch.Size([40, 431])\n",
      "torch.Size([40, 431])\n",
      "torch.Size([40, 431])\n",
      "torch.Size([40, 431])\n",
      "torch.Size([40, 431])\n",
      "torch.Size([40, 431])\n",
      "torch.Size([40, 431])\n",
      "torch.Size([40, 431])\n",
      "torch.Size([40, 431])\n",
      "torch.Size([40, 431])\n",
      "torch.Size([40, 431])\n",
      "torch.Size([40, 431])\n",
      "torch.Size([40, 431])\n",
      "torch.Size([40, 431])\n",
      "torch.Size([40, 431])\n",
      "torch.Size([40, 431])\n",
      "torch.Size([40, 431])\n",
      "torch.Size([40, 431])\n",
      "torch.Size([40, 431])\n",
      "torch.Size([40, 431])\n",
      "torch.Size([40, 431])\n",
      "torch.Size([40, 431])\n",
      "torch.Size([40, 431])\n",
      "torch.Size([40, 431])\n",
      "torch.Size([40, 431])\n",
      "torch.Size([40, 431])\n",
      "torch.Size([40, 431])\n",
      "torch.Size([40, 431])\n",
      "torch.Size([40, 431])\n",
      "torch.Size([40, 431])\n",
      "torch.Size([40, 431])\n",
      "torch.Size([40, 431])\n",
      "torch.Size([40, 431])\n",
      "torch.Size([40, 431])\n",
      "torch.Size([40, 431])\n",
      "torch.Size([40, 431])\n",
      "torch.Size([40, 431])\n",
      "torch.Size([40, 431])\n",
      "torch.Size([40, 431])\n",
      "torch.Size([40, 431])\n",
      "torch.Size([40, 431])\n",
      "torch.Size([40, 431])\n",
      "torch.Size([40, 431])\n",
      "torch.Size([40, 431])\n",
      "torch.Size([40, 431])\n",
      "torch.Size([40, 431])\n",
      "torch.Size([40, 431])\n",
      "torch.Size([40, 431])\n",
      "torch.Size([40, 431])\n",
      "torch.Size([40, 431])\n",
      "torch.Size([40, 431])\n",
      "torch.Size([40, 431])\n",
      "torch.Size([40, 431])\n",
      "torch.Size([40, 431])\n",
      "torch.Size([40, 431])\n",
      "torch.Size([40, 431])\n",
      "torch.Size([40, 431])\n",
      "torch.Size([40, 431])\n",
      "torch.Size([40, 431])\n",
      "torch.Size([40, 431])\n",
      "torch.Size([40, 431])\n",
      "torch.Size([40, 431])\n",
      "torch.Size([40, 431])\n",
      "torch.Size([40, 431])\n",
      "torch.Size([40, 431])\n",
      "torch.Size([40, 431])\n",
      "torch.Size([40, 431])\n",
      "torch.Size([40, 431])\n",
      "torch.Size([40, 431])\n",
      "torch.Size([40, 431])\n",
      "torch.Size([40, 431])\n",
      "torch.Size([40, 431])\n",
      "torch.Size([40, 431])\n",
      "torch.Size([40, 431])\n",
      "torch.Size([40, 431])\n",
      "torch.Size([40, 431])\n",
      "torch.Size([40, 431])\n",
      "torch.Size([40, 431])\n",
      "torch.Size([40, 431])\n",
      "torch.Size([40, 431])\n",
      "torch.Size([40, 431])\n",
      "torch.Size([40, 431])\n",
      "torch.Size([40, 431])\n",
      "torch.Size([40, 431])\n",
      "torch.Size([40, 431])\n",
      "torch.Size([40, 431])\n",
      "torch.Size([40, 431])\n",
      "torch.Size([40, 431])\n",
      "torch.Size([40, 431])\n",
      "torch.Size([40, 431])\n",
      "torch.Size([40, 431])\n",
      "torch.Size([40, 431])\n",
      "torch.Size([40, 431])\n",
      "torch.Size([40, 431])\n",
      "torch.Size([40, 431])\n",
      "torch.Size([40, 431])\n",
      "torch.Size([40, 431])\n",
      "torch.Size([40, 431])\n",
      "torch.Size([40, 431])\n",
      "torch.Size([40, 431])\n",
      "torch.Size([40, 431])\n",
      "torch.Size([40, 431])\n",
      "torch.Size([40, 431])\n",
      "torch.Size([40, 431])\n",
      "torch.Size([40, 431])\n",
      "torch.Size([40, 431])\n",
      "torch.Size([40, 431])\n",
      "torch.Size([40, 431])\n",
      "torch.Size([40, 431])\n",
      "torch.Size([40, 431])\n",
      "torch.Size([40, 431])\n",
      "torch.Size([40, 431])\n",
      "torch.Size([40, 431])\n",
      "torch.Size([40, 431])\n",
      "torch.Size([40, 431])\n",
      "torch.Size([40, 431])\n",
      "torch.Size([40, 431])\n",
      "torch.Size([40, 431])\n",
      "torch.Size([40, 431])\n",
      "torch.Size([40, 431])\n",
      "torch.Size([40, 431])\n",
      "torch.Size([40, 431])\n",
      "torch.Size([40, 431])\n",
      "torch.Size([40, 431])\n",
      "torch.Size([40, 431])\n",
      "torch.Size([40, 431])\n",
      "torch.Size([40, 431])\n",
      "torch.Size([40, 431])\n",
      "torch.Size([40, 431])\n",
      "torch.Size([40, 431])\n",
      "torch.Size([40, 431])\n",
      "torch.Size([40, 431])\n",
      "torch.Size([40, 431])\n",
      "torch.Size([40, 431])\n",
      "torch.Size([40, 431])\n",
      "torch.Size([40, 431])\n",
      "torch.Size([40, 431])\n",
      "torch.Size([40, 431])\n",
      "torch.Size([40, 431])\n",
      "torch.Size([40, 431])\n",
      "torch.Size([40, 431])\n",
      "torch.Size([40, 431])\n",
      "torch.Size([40, 431])\n",
      "torch.Size([40, 431])\n",
      "torch.Size([40, 431])\n",
      "torch.Size([40, 431])\n",
      "torch.Size([40, 431])\n",
      "torch.Size([40, 431])\n",
      "torch.Size([40, 431])\n",
      "torch.Size([40, 431])\n",
      "torch.Size([40, 431])\n",
      "torch.Size([40, 431])\n",
      "torch.Size([40, 431])\n",
      "torch.Size([40, 431])\n",
      "torch.Size([40, 431])\n",
      "torch.Size([40, 431])\n",
      "torch.Size([40, 431])\n",
      "torch.Size([40, 431])\n",
      "torch.Size([40, 431])\n",
      "torch.Size([40, 431])\n",
      "torch.Size([40, 431])\n",
      "torch.Size([40, 431])\n",
      "torch.Size([40, 431])\n",
      "torch.Size([40, 431])\n",
      "torch.Size([40, 431])\n",
      "torch.Size([40, 431])\n",
      "torch.Size([40, 431])\n",
      "torch.Size([40, 431])\n",
      "torch.Size([40, 431])\n",
      "torch.Size([40, 431])\n",
      "torch.Size([40, 431])\n",
      "torch.Size([40, 431])\n",
      "torch.Size([40, 431])\n",
      "torch.Size([40, 431])\n",
      "torch.Size([40, 431])\n",
      "torch.Size([40, 431])\n",
      "torch.Size([40, 431])\n",
      "torch.Size([40, 431])\n",
      "torch.Size([40, 431])\n",
      "torch.Size([40, 431])\n",
      "torch.Size([40, 431])\n",
      "torch.Size([40, 431])\n",
      "torch.Size([40, 431])\n",
      "torch.Size([40, 431])\n",
      "torch.Size([40, 431])\n",
      "torch.Size([40, 431])\n",
      "torch.Size([40, 431])\n",
      "torch.Size([40, 431])\n",
      "torch.Size([40, 431])\n",
      "torch.Size([40, 431])\n",
      "torch.Size([40, 431])\n",
      "torch.Size([40, 431])\n",
      "torch.Size([40, 431])\n",
      "torch.Size([40, 431])\n",
      "torch.Size([40, 431])\n",
      "torch.Size([40, 431])\n",
      "torch.Size([40, 431])\n",
      "torch.Size([40, 431])\n",
      "torch.Size([40, 431])\n",
      "torch.Size([40, 431])\n",
      "torch.Size([40, 431])\n",
      "torch.Size([40, 431])\n",
      "torch.Size([40, 431])\n",
      "torch.Size([40, 431])\n",
      "torch.Size([40, 431])\n",
      "torch.Size([40, 431])\n",
      "torch.Size([40, 431])\n",
      "torch.Size([40, 431])\n",
      "torch.Size([40, 431])\n",
      "torch.Size([40, 431])\n",
      "torch.Size([40, 431])\n",
      "torch.Size([40, 431])\n",
      "torch.Size([40, 431])\n",
      "torch.Size([40, 431])\n",
      "torch.Size([40, 431])\n",
      "torch.Size([40, 431])\n",
      "torch.Size([40, 431])\n",
      "torch.Size([40, 431])\n"
     ]
    }
   ],
   "source": [
    "for sample in barks_norm:\n",
    "    print(sample.shape)"
   ]
  },
  {
   "cell_type": "code",
   "execution_count": null,
   "id": "0c1d2bcc",
   "metadata": {},
   "outputs": [],
   "source": []
  }
 ],
 "metadata": {
  "kernelspec": {
   "display_name": "NYUDL21",
   "language": "python",
   "name": "nyudl21"
  },
  "language_info": {
   "codemirror_mode": {
    "name": "ipython",
    "version": 3
   },
   "file_extension": ".py",
   "mimetype": "text/x-python",
   "name": "python",
   "nbconvert_exporter": "python",
   "pygments_lexer": "ipython3",
   "version": "3.8.10"
  }
 },
 "nbformat": 4,
 "nbformat_minor": 5
}
