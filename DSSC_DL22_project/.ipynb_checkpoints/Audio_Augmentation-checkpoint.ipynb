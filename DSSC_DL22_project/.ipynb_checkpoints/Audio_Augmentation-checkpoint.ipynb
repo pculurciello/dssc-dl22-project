{
 "cells": [
  {
   "cell_type": "code",
   "execution_count": 1,
   "metadata": {},
   "outputs": [],
   "source": [
    "import librosa\n",
    "import soundfile as sf\n",
    "import numpy as np\n",
    "import matplotlib.pyplot as plt\n",
    "import os"
   ]
  },
  {
   "cell_type": "code",
   "execution_count": 2,
   "metadata": {},
   "outputs": [],
   "source": [
    "class AudioAugmentation():\n",
    "      \n",
    "    def __init__(self, sample_rate=None, num_samples=None):\n",
    "        self.sample_rate = sample_rate\n",
    "        self.num_samples = num_samples\n",
    "    \n",
    "    def read_audio_file(self, file_path):\n",
    "        self.sample_rate = librosa.core.load(file_path)[1]\n",
    "        self.num_samples = len(librosa.core.load(file_path)[0])\n",
    "        samples = librosa.core.load(file_path)[0]\n",
    "        return samples\n",
    "\n",
    "    def write_audio_file(self, file, data):\n",
    "        #librosa.output.write_wav(file, data, sample_rate)\n",
    "        sf.write(file, data, self.sample_rate)\n",
    "\n",
    "    def add_noise(self, data):\n",
    "        noise = np.random.randn(len(data))\n",
    "        data_noise = data + 0.005 * noise\n",
    "        return data_noise\n",
    "\n",
    "    def shift(self, data, seconds=1):\n",
    "        return np.roll(data, int(self.sample_rate * seconds))\n",
    "\n",
    "    def stretch(self, data, rate=1):\n",
    "        data = librosa.effects.time_stretch(data, rate)\n",
    "        if len(data) > self.num_samples:\n",
    "            data = data[:self.num_samples]\n",
    "        else:\n",
    "            data = np.pad(data, (0, max(0, self.num_samples - len(data))), \"constant\")\n",
    "        return data   \n"
   ]
  },
  {
   "cell_type": "code",
   "execution_count": 3,
   "metadata": {},
   "outputs": [],
   "source": [
    "# Create a new instance from AudioAugmentation class\n",
    "aa = AudioAugmentation()\n",
    "\n",
    "a=0\n",
    "duration = 1\n",
    "barks_folder = 'barks_' + str(duration) + 's'\n",
    "barks_path = os.path.join(os.getcwd(), barks_folder)\n",
    "for file in os.listdir(barks_path):\n",
    "    a+=1   \n",
    "    file_path = os.path.join(barks_path, file)\n",
    "    #print(\"file: \" + file)\n",
    "    \n",
    "    # Read the cough sound\n",
    "    data = aa.read_audio_file(file_path)\n",
    "    #print(\"data: \" + str(len(data)))\n",
    "  \n",
    "    # Adding noise to sound\n",
    "    data_noise = aa.add_noise(data)\n",
    "    #print(\"data_noise: \" + str(len(data_noise)))\n",
    "    \n",
    "    # Shifting the sound\n",
    "    data_roll = aa.shift(data)\n",
    "    #print(\"data_roll: \" + str(len(data_roll)))\n",
    "  \n",
    "    # Stretching the sound\n",
    "    data_stretch = aa.stretch(data, 0.8)\n",
    "    #print(\"data_stretch: \" + str(len(data_stretch)))\n",
    "    #print(\"- - - - - - - - - - -\")\n",
    "    \n",
    "    output_folder = os.path.join(os.getcwd(), 'augments')\n",
    "    \n",
    "    noisefilename = \"sample_noise_\" + str(a) + \".wav\"\n",
    "    noisepath = os.path.join(output_folder, noisefilename)\n",
    "\n",
    "    rollfilename = \"sample_roll_\" + str(a) + \".wav\"\n",
    "    rollpath = os.path.join(output_folder, rollfilename)\n",
    "\n",
    "    stretchfilename = \"sample_stretch_\" + str(a) + \".wav\"\n",
    "    stretchpath = os.path.join(output_folder, stretchfilename)\n",
    "\n",
    "    # Write generated cough sounds\n",
    "    aa.write_audio_file(noisepath, data_noise)\n",
    "    aa.write_audio_file(rollpath, data_roll)\n",
    "    aa.write_audio_file(stretchpath, data_stretch)"
   ]
  },
  {
   "cell_type": "code",
   "execution_count": 4,
   "metadata": {},
   "outputs": [],
   "source": [
    "# check num_samples is the same for all files\n",
    "for file in (os.listdir(barks_path)):\n",
    "    data = librosa.core.load(barks_path + '/' + file)[0]\n",
    "    if len(data) != 22050 * duration:\n",
    "        print(file)"
   ]
  },
  {
   "cell_type": "code",
   "execution_count": null,
   "metadata": {},
   "outputs": [],
   "source": []
  }
 ],
 "metadata": {
  "kernelspec": {
   "display_name": "Python 3 (ipykernel)",
   "language": "python",
   "name": "python3"
  },
  "language_info": {
   "codemirror_mode": {
    "name": "ipython",
    "version": 3
   },
   "file_extension": ".py",
   "mimetype": "text/x-python",
   "name": "python",
   "nbconvert_exporter": "python",
   "pygments_lexer": "ipython3",
   "version": "3.8.10"
  }
 },
 "nbformat": 4,
 "nbformat_minor": 4
}
