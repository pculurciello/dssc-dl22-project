{
 "cells": [
  {
   "cell_type": "code",
   "execution_count": null,
   "id": "5e0bac27",
   "metadata": {},
   "outputs": [],
   "source": [
    "import librosa\n",
    "import soundfile as sf\n",
    "import os\n",
    "from matplotlib import pyplot as plt\n",
    "import math\n",
    "import numpy as np"
   ]
  },
  {
   "cell_type": "code",
   "execution_count": null,
   "id": "784f9eba",
   "metadata": {},
   "outputs": [],
   "source": [
    "utils_path = os.getcwd()\n",
    "parent_path = os.path.abspath(os.path.join(utils_path, os.pardir))\n",
    "audio_path = os.path.join(parent_path, 'audio')"
   ]
  },
  {
   "cell_type": "code",
   "execution_count": null,
   "id": "1b4079fe",
   "metadata": {},
   "outputs": [],
   "source": [
    "def plot_audio(filename):\n",
    "    audio_path = os.path.join(barks_path, filename)\n",
    "    audio, sr = librosa.load(audio_path, res_type='kaiser_fast')\n",
    "#     fig = plt.figure(figsize=(50,50))\n",
    "#     ax.plot(audio)\n",
    "#     ax.title.set_text(filename.split(\"_\")[0:2])\n",
    "    \n",
    "    plt.figure(1)\n",
    "    plt.title(filename.split(\"_\")[0:2])\n",
    "    plt.plot(audio)\n",
    "    plt.show()"
   ]
  },
  {
   "cell_type": "code",
   "execution_count": null,
   "id": "cbe6799d",
   "metadata": {},
   "outputs": [],
   "source": [
    "duration = 3\n",
    "\n",
    "barks_file = 'barks_capture_20221014.wav'\n",
    "barks_folder = 'barks_' + str(duration) + 's'\n",
    "\n",
    "barks_capture = os.path.join(audio_path, barks_file)\n",
    "barks_path = os.path.join(parent_path, barks_folder)\n",
    "\n",
    "# First load the file\n",
    "audio, sr = librosa.load(barks_capture)\n",
    "\n",
    "# Get number of samples for duration seconds\n",
    "buffer = duration * sr\n",
    "\n",
    "samples_total = len(audio)\n",
    "samples_wrote = 0\n",
    "counter = 1\n",
    "\n",
    "while samples_wrote < samples_total:\n",
    "\n",
    "    # check if the buffer is not exceeding total samples \n",
    "    if buffer > (samples_total - samples_wrote):\n",
    "        buffer = samples_total - samples_wrote\n",
    "\n",
    "    block = audio[samples_wrote : (samples_wrote + buffer)]\n",
    "    out_filename = os.path.join(barks_path, \"split_\" + str(counter) + \"_\" + barks_file)\n",
    "    #  Write duration second segment\n",
    "    sf.write(out_filename, block, samplerate=sr)\n",
    "\n",
    "    counter += 1\n",
    "    samples_wrote += buffer"
   ]
  },
  {
   "cell_type": "code",
   "execution_count": null,
   "id": "3e043f07",
   "metadata": {
    "scrolled": true
   },
   "outputs": [],
   "source": [
    "file_count = 0\n",
    "for file in os.listdir(barks_path):\n",
    "    audio_path = os.path.join(barks_path, file)\n",
    "    # get number of audio files in dir\n",
    "    if os.path.isfile(audio_path):\n",
    "        file_count += 1 \n",
    "\n",
    "dim = math.ceil(np.sqrt(file_count))\n",
    "\n",
    "columns = 10\n",
    "rows = math.ceil(file_count / columns)\n",
    "\n",
    "fig = plt.figure(figsize=(50,50))\n",
    "\n",
    "i = 1\n",
    "for file in os.listdir(barks_path):\n",
    "    audio_path = os.path.join(barks_path, file)\n",
    "    audio, sr = librosa.load(audio_path, res_type='kaiser_fast')\n",
    "    delete = True\n",
    "    if np.max(np.abs(audio)) > 0.1:\n",
    "        # if files starts or ends with sound (first 10 msecs) it may be trimmed after the split, so delete the chunck\n",
    "        if np.mean(np.abs(audio[:round(sr * 1e-2)])) >= 5e-2 or np.mean(np.abs(audio[-round(sr * 1e-2):])) >= 5e-2:\n",
    "            print('file ' + file + ' contains invalid barks!')\n",
    "        else:\n",
    "            print('file ' + file + ' contains valid barks!')\n",
    "            ax = fig.add_subplot(rows,columns,i)\n",
    "            ax.plot(audio)\n",
    "            ax.title.set_text(file.split(\"_\")[0:2])\n",
    "            delete = False\n",
    "    else:\n",
    "        print('file ' + file + ' contains noise only!')\n",
    "    if delete: os.remove(audio_path) \n",
    "    i += 1"
   ]
  },
  {
   "cell_type": "code",
   "execution_count": null,
   "id": "db22c757",
   "metadata": {},
   "outputs": [],
   "source": [
    "# rename files\n",
    "i = 1\n",
    "for file in os.listdir(barks_path):\n",
    "    src_path = os.path.join(barks_path, file)\n",
    "    dst_path = os.path.join(barks_path, 'barks_0' + str(i) + '.wav' if i < 10 else 'barks_' + str(i) + '.wav')\n",
    "    os.rename(src_path, dst_path)\n",
    "    i += 1 "
   ]
  },
  {
   "cell_type": "code",
   "execution_count": null,
   "id": "e720f6f8",
   "metadata": {},
   "outputs": [],
   "source": []
  }
 ],
 "metadata": {
  "kernelspec": {
   "display_name": "Python 3 (ipykernel)",
   "language": "python",
   "name": "python3"
  },
  "language_info": {
   "codemirror_mode": {
    "name": "ipython",
    "version": 3
   },
   "file_extension": ".py",
   "mimetype": "text/x-python",
   "name": "python",
   "nbconvert_exporter": "python",
   "pygments_lexer": "ipython3",
   "version": "3.8.10"
  }
 },
 "nbformat": 4,
 "nbformat_minor": 5
}
